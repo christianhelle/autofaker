{
  "cells": [
    {
      "cell_type": "markdown",
      "metadata": {
        "id": "0y_MgveJHZG9"
      },
      "source": [
        "Install AutoFaker from PyPI"
      ]
    },
    {
      "cell_type": "code",
      "execution_count": null,
      "metadata": {
        "colab": {
          "base_uri": "https://localhost:8080/"
        },
        "id": "wjLc6v4cDfUm",
        "outputId": "4592098e-7f70-4315-f234-ae38c435099b"
      },
      "outputs": [],
      "source": [
        "pip install autofaker"
      ]
    },
    {
      "cell_type": "markdown",
      "metadata": {
        "id": "g1T15tRpHc2M"
      },
      "source": [
        "Import modules"
      ]
    },
    {
      "cell_type": "code",
      "execution_count": 2,
      "metadata": {
        "id": "q72dHzF7AbZH"
      },
      "outputs": [],
      "source": [
        "from autofaker import Autodata"
      ]
    },
    {
      "cell_type": "markdown",
      "metadata": {
        "id": "WqqaFkjlD9RM"
      },
      "source": [
        "Creates an anonymous variable of the built-in types and dates"
      ]
    },
    {
      "cell_type": "code",
      "execution_count": 3,
      "metadata": {
        "colab": {
          "base_uri": "https://localhost:8080/"
        },
        "id": "UIrw4-XADVvQ",
        "outputId": "290e1316-1f0e-4bec-e2b1-c05306b0f5f7"
      },
      "outputs": [
        {
          "name": "stdout",
          "output_type": "stream",
          "text": [
            "anonymous string:    a88fd063-d562-46cb-b028-67b18893e708\n",
            "anonymous int:       7699\n",
            "anonymous float:     8030.0860221237945\n",
            "anonymous complex:   (9302+0j)\n",
            "anonymous range:     range(0, 6869)\n",
            "anonymous bytes:     b'\\x00\\x01\\x02\\x03\\x04\\x05\\x06\\x07\\x08\\t\\n\\x0b\\x0c\\r\\x0e\\x0f\\x10\\x11\\x12\\x13\\x14\\x15\\x16\\x17\\x18\\x19\\x1a\\x1b\\x1c\\x1d\\x1e\\x1f !\"#$%&\\'()*+,-./0123456789:;<=>?@ABCDEFGHIJKLMNOPQRSTUVWXYZ[\\\\]^_`abcdefghijklmnopqrstuvwxyz{|}~\\x7f\\x80\\x81\\x82\\x83\\x84\\x85\\x86\\x87\\x88\\x89\\x8a\\x8b\\x8c\\x8d\\x8e\\x8f\\x90\\x91\\x92\\x93\\x94\\x95\\x96\\x97\\x98\\x99\\x9a\\x9b\\x9c\\x9d\\x9e\\x9f\\xa0\\xa1\\xa2\\xa3\\xa4\\xa5\\xa6\\xa7\\xa8\\xa9\\xaa\\xab\\xac\\xad\\xae\\xaf\\xb0\\xb1\\xb2\\xb3\\xb4\\xb5\\xb6\\xb7\\xb8\\xb9\\xba\\xbb\\xbc\\xbd\\xbe\\xbf\\xc0\\xc1\\xc2\\xc3\\xc4\\xc5\\xc6\\xc7\\xc8\\xc9\\xca\\xcb\\xcc\\xcd\\xce\\xcf\\xd0\\xd1\\xd2\\xd3\\xd4\\xd5\\xd6\\xd7\\xd8\\xd9\\xda\\xdb\\xdc\\xdd\\xde\\xdf\\xe0\\xe1\\xe2\\xe3\\xe4\\xe5\\xe6\\xe7\\xe8\\xe9\\xea\\xeb\\xec\\xed\\xee\\xef\\xf0\\xf1\\xf2\\xf3\\xf4\\xf5\\xf6\\xf7\\xf8'\n",
            "anonymous bytearray: bytearray(b'\\x00\\x01\\x02\\x03\\x04\\x05\\x06\\x07\\x08\\t\\n\\x0b\\x0c\\r\\x0e\\x0f\\x10\\x11\\x12\\x13\\x14\\x15\\x16\\x17\\x18\\x19\\x1a\\x1b\\x1c\\x1d\\x1e\\x1f !\"#$%&\\'()*+,-./0123456789:;<=>?@ABCDEFGHIJKLMNOPQRSTUVWXYZ[\\\\]^_`abcdefghijklmnopqrstuvwxyz{|}~\\x7f\\x80\\x81\\x82\\x83\\x84\\x85\\x86\\x87\\x88\\x89\\x8a\\x8b\\x8c\\x8d\\x8e\\x8f\\x90\\x91\\x92\\x93\\x94\\x95\\x96\\x97\\x98\\x99\\x9a\\x9b\\x9c\\x9d\\x9e\\x9f\\xa0\\xa1\\xa2\\xa3\\xa4\\xa5\\xa6\\xa7\\xa8\\xa9\\xaa\\xab\\xac\\xad\\xae\\xaf\\xb0\\xb1\\xb2\\xb3\\xb4\\xb5\\xb6\\xb7\\xb8\\xb9\\xba\\xbb\\xbc\\xbd\\xbe\\xbf\\xc0\\xc1\\xc2\\xc3\\xc4\\xc5\\xc6\\xc7\\xc8\\xc9\\xca\\xcb\\xcc\\xcd\\xce\\xcf\\xd0\\xd1\\xd2\\xd3\\xd4\\xd5\\xd6\\xd7\\xd8\\xd9\\xda\\xdb\\xdc\\xdd\\xde\\xdf\\xe0\\xe1\\xe2\\xe3\\xe4\\xe5\\xe6\\xe7\\xe8\\xe9\\xea\\xeb\\xec\\xed\\xee\\xef\\xf0\\xf1')\n",
            "anonymous datetime:  2022-06-02 10:32:21.000883\n",
            "anonymous date:      2011-07-18 00:00:00\n"
          ]
        }
      ],
      "source": [
        "print(f'anonymous string:    {Autodata.create(str)}')\n",
        "print(f'anonymous int:       {Autodata.create(int)}')\n",
        "print(f'anonymous float:     {Autodata.create(float)}')\n",
        "print(f'anonymous complex:   {Autodata.create(complex)}')\n",
        "print(f'anonymous range:     {Autodata.create(range)}')\n",
        "print(f'anonymous bytes:     {Autodata.create(bytes)}')\n",
        "print(f'anonymous bytearray: {Autodata.create(bytearray)}')\n",
        "\n",
        "import datetime\n",
        "print(f'anonymous datetime:  {Autodata.create(datetime)}')\n",
        "print(f'anonymous date:      {Autodata.create(datetime.date)}')"
      ]
    },
    {
      "cell_type": "markdown",
      "metadata": {
        "id": "nAfIhGksKhfD"
      },
      "source": [
        "Create collections containing anonymous variables of built-in types and dates"
      ]
    },
    {
      "cell_type": "code",
      "execution_count": 5,
      "metadata": {
        "colab": {
          "base_uri": "https://localhost:8080/"
        },
        "id": "Jp_Tvn71KgI0",
        "outputId": "e522286f-654b-4b43-f287-e966ffd27af6"
      },
      "outputs": [
        {
          "name": "stdout",
          "output_type": "stream",
          "text": [
            "anonymous strings:    ['7d3f91ec-5289-4293-ad4e-10a0129964bc', 'a611cf9e-90fe-46f0-a953-ec5b4fef095d', '84bbdfbf-c122-4d64-b897-90dbd6bb310c']\n",
            "anonymous ints:       [7252, 6936, 2717, 4280, 9967, 8815, 7533, 274, 7227, 5829]\n",
            "anonymous floats:     [7588.813282296363, 9524.77906092993, 4737.3214362557355, 6508.054721957382, 947.6440468679203]\n",
            "anonymous complexes:  [(9426+0j), (3512+0j), (9518+0j)]\n",
            "anonymous ranges:     [range(0, 3944), range(0, 4166), range(0, 3530)]\n",
            "anonymous bytes:      [b'\\x00\\x01\\x02\\x03\\x04\\x05\\x06\\x07\\x08\\t\\n\\x0b\\x0c\\r\\x0e\\x0f\\x10\\x11\\x12\\x13\\x14\\x15\\x16\\x17\\x18\\x19\\x1a\\x1b\\x1c\\x1d\\x1e\\x1f !\"#$%&\\'()*+,-./0123456789:;<=>?@ABCDEFGHIJKLMNOPQRSTUVWXYZ[\\\\]^_`abcdefghijklmnopqrstuvwxyz{|}~\\x7f\\x80\\x81\\x82\\x83\\x84\\x85\\x86\\x87\\x88\\x89\\x8a\\x8b\\x8c\\x8d\\x8e\\x8f\\x90\\x91\\x92\\x93\\x94\\x95\\x96\\x97\\x98\\x99\\x9a\\x9b\\x9c\\x9d\\x9e\\x9f\\xa0\\xa1\\xa2\\xa3\\xa4\\xa5\\xa6\\xa7\\xa8\\xa9\\xaa\\xab\\xac\\xad\\xae\\xaf\\xb0\\xb1\\xb2\\xb3\\xb4\\xb5\\xb6\\xb7\\xb8\\xb9\\xba\\xbb\\xbc\\xbd\\xbe\\xbf\\xc0\\xc1\\xc2\\xc3\\xc4\\xc5\\xc6\\xc7\\xc8\\xc9\\xca', b'\\x00\\x01\\x02\\x03\\x04\\x05\\x06\\x07\\x08\\t\\n\\x0b\\x0c\\r\\x0e\\x0f\\x10\\x11\\x12\\x13\\x14\\x15\\x16\\x17\\x18\\x19\\x1a\\x1b\\x1c\\x1d\\x1e\\x1f !\"#$%&\\'()*+,-./0123456789:;<=>?@ABCDEFGHIJKLMNOPQRSTUVWXYZ[\\\\]^_`abcdefghijklmnopqr', b'\\x00\\x01\\x02\\x03\\x04\\x05\\x06\\x07\\x08\\t\\n\\x0b\\x0c\\r\\x0e\\x0f\\x10\\x11\\x12\\x13\\x14\\x15\\x16\\x17\\x18\\x19\\x1a\\x1b\\x1c\\x1d\\x1e\\x1f']\n",
            "anonymous datetime:   [datetime.datetime(2020, 2, 9, 9, 28, 5, 350), datetime.datetime(2023, 5, 19, 13, 56, 52, 688), datetime.datetime(2031, 11, 11, 5, 51, 44, 637)]\n",
            "anonymous date:       [datetime.datetime(2011, 1, 4, 0, 0), datetime.datetime(2028, 9, 7, 0, 0), datetime.datetime(2024, 6, 24, 0, 0)]\n"
          ]
        }
      ],
      "source": [
        "print(f'anonymous strings:    {Autodata.create_many(str)}')\n",
        "print(f'anonymous ints:       {Autodata.create_many(int, 10)}')\n",
        "print(f'anonymous floats:     {Autodata.create_many(float, 5)}')\n",
        "print(f'anonymous complexes:  {Autodata.create_many(complex)}')\n",
        "print(f'anonymous ranges:     {Autodata.create_many(range)}')\n",
        "print(f'anonymous bytes:      {Autodata.create_many(bytes)}')\n",
        "print(f'anonymous bytearrays: {Autodata.create_many(bytearray)}')\n",
        "\n",
        "import datetime\n",
        "print(f'anonymous datetime:   {Autodata.create_many(datetime)}')\n",
        "print(f'anonymous date:       {Autodata.create_many(datetime.date)}')"
      ]
    },
    {
      "cell_type": "markdown",
      "metadata": {
        "id": "WouPj313E84s"
      },
      "source": [
        "Creates an anonymous class"
      ]
    },
    {
      "cell_type": "code",
      "execution_count": 5,
      "metadata": {
        "colab": {
          "base_uri": "https://localhost:8080/"
        },
        "id": "_zSjLhnNE7Jv",
        "outputId": "8455307b-4968-487b-b0df-ee9f113fc227"
      },
      "outputs": [
        {
          "name": "stdout",
          "output_type": "stream",
          "text": [
            "id = 5416\n",
            "text = 577e1b6f-a8c4-4fc5-bfaa-eed378147194\n"
          ]
        }
      ],
      "source": [
        "class SimpleClass:\n",
        "    id = -1\n",
        "    text = 'test'\n",
        "\n",
        "cls = Autodata.create(SimpleClass)\n",
        "print(f'id = {cls.id}')\n",
        "print(f'text = {cls.text}')"
      ]
    },
    {
      "cell_type": "markdown",
      "metadata": {
        "id": "CBc66gUCQK6h"
      },
      "source": [
        "Creates an anonymous dataclass"
      ]
    },
    {
      "cell_type": "code",
      "execution_count": 6,
      "metadata": {
        "colab": {
          "base_uri": "https://localhost:8080/"
        },
        "id": "WcY9GZ7vQKEy",
        "outputId": "b5c358c0-e24b-4fb0-9623-df2db565c974"
      },
      "outputs": [
        {
          "name": "stdout",
          "output_type": "stream",
          "text": [
            "id = 4460\n",
            "text = 71c9aaf9-cef1-4ea8-aac8-ebba8bb8d425\n"
          ]
        }
      ],
      "source": [
        "from dataclasses import dataclass\n",
        "\n",
        "@dataclass\n",
        "class DataClass:\n",
        "    id: int\n",
        "    text: str\n",
        "\n",
        "cls = Autodata.create(DataClass)\n",
        "print(f'id = {cls.id}')\n",
        "print(f'text = {cls.text}')"
      ]
    },
    {
      "cell_type": "markdown",
      "metadata": {
        "id": "l-5AkSAMSvo2"
      },
      "source": [
        "Creates an anonymous dataclass using fake data"
      ]
    },
    {
      "cell_type": "code",
      "execution_count": 14,
      "metadata": {
        "colab": {
          "base_uri": "https://localhost:8080/"
        },
        "id": "yDs1K1GISuu7",
        "outputId": "3b3daa97-bf71-46b1-9577-6d2fc1341432"
      },
      "outputs": [
        {
          "name": "stdout",
          "output_type": "stream",
          "text": [
            "id:               6756\n",
            "name:             Philip Mason\n",
            "job:              Engineer, manufacturing\n",
            "\n",
            "address:\n",
            "532 Carpenter Canyon Suite 204\n",
            "West Alyssa, HI 07247\n",
            "\n",
            "country:          Ecuador\n",
            "currency name:    South African rand\n",
            "currency code:    SVC\n",
            "\n",
            "email:            nwatson@example.net\n",
            "safe email:       bdavis@example.org\n",
            "work email:       pzimmerman@brandt-miller.com\n",
            "\n",
            "hostname:         srv-99.johnson.biz\n",
            "IPv4:             121.165.60.89\n",
            "IPv6:             65bb:884d:6ed2:5a73:e61e:59f8:7960:c798\n",
            "\n",
            "text:\n",
            "Reduce loss unit skill reflect night issue great. Late change individual far you toward. Evening threat education today attack teacher.\n"
          ]
        }
      ],
      "source": [
        "@dataclass\n",
        "class DataClass:\n",
        "    id: int\n",
        "\n",
        "    name: str\n",
        "    address: str\n",
        "    job: str\n",
        "\n",
        "    country: str\n",
        "    currency_name: str\n",
        "    currency_code: str\n",
        "\n",
        "    email: str\n",
        "    safe_email: str\n",
        "    company_email: str\n",
        "\n",
        "    hostname: str\n",
        "    ipv4: str\n",
        "    ipv6: str\n",
        "\n",
        "    text: str\n",
        "\n",
        "\n",
        "data = Autodata.create(DataClass, use_fake_data=True)\n",
        "\n",
        "print(f'id:               {data.id}')\n",
        "print(f'name:             {data.name}')\n",
        "print(f'job:              {data.job}\\n')\n",
        "print(f'address:\\n{data.address}\\n')\n",
        "\n",
        "print(f'country:          {data.country}')\n",
        "print(f'currency name:    {data.currency_name}')\n",
        "print(f'currency code:    {data.currency_code}\\n')\n",
        "\n",
        "print(f'email:            {data.email}')\n",
        "print(f'safe email:       {data.safe_email}')\n",
        "print(f'work email:       {data.company_email}\\n')\n",
        "\n",
        "print(f'hostname:         {data.hostname}')\n",
        "print(f'IPv4:             {data.ipv4}')\n",
        "print(f'IPv6:             {data.ipv6}\\n')\n",
        "\n",
        "print(f'text:\\n{data.text}')"
      ]
    },
    {
      "cell_type": "markdown",
      "metadata": {
        "id": "w9Y0ew5bK38i"
      },
      "source": [
        "Create a collection of an anonymous class"
      ]
    },
    {
      "cell_type": "code",
      "execution_count": 15,
      "metadata": {
        "colab": {
          "base_uri": "https://localhost:8080/"
        },
        "id": "RIECrPirK7qY",
        "outputId": "4d450f89-04e9-45ae-de31-8185167851ec"
      },
      "outputs": [
        {
          "name": "stdout",
          "output_type": "stream",
          "text": [
            "id = 1779\n",
            "text = be6bbcfa-44a5-4617-99d0-dcc6c0feb459\n",
            "\n",
            "id = 5951\n",
            "text = 7b3df11c-d2f4-4c59-9ee7-c41b5b7f861a\n",
            "\n",
            "id = 5771\n",
            "text = c77a3a07-7483-40a3-9088-b4d9e4ee5713\n",
            "\n"
          ]
        }
      ],
      "source": [
        "class SimpleClass:\n",
        "    id = -1\n",
        "    text = 'test'\n",
        "\n",
        "classes = Autodata.create_many(SimpleClass)\n",
        "for cls in classes:\n",
        "  print(f'id = {cls.id}')\n",
        "  print(f'text = {cls.text}')\n",
        "  print()"
      ]
    },
    {
      "cell_type": "markdown",
      "metadata": {
        "id": "wsAiwcRlHMIO"
      },
      "source": [
        "Create an anonymous class with nested types"
      ]
    },
    {
      "cell_type": "code",
      "execution_count": 16,
      "metadata": {
        "colab": {
          "base_uri": "https://localhost:8080/"
        },
        "id": "kZC_mo7-FRRm",
        "outputId": "affee7e8-b785-4fd6-b1b4-5876053d5b68"
      },
      "outputs": [
        {
          "name": "stdout",
          "output_type": "stream",
          "text": [
            "id = 9848\n",
            "text = 49c28b1e-75b0-42a4-b53b-d607f701cad2\n",
            "inner.id = 2753\n",
            "inner.text = 6f243959-1141-4818-bc81-9fa2e3fee145\n"
          ]
        }
      ],
      "source": [
        "class NestedClass:\n",
        "    id = -1\n",
        "    text = 'test'\n",
        "    inner = SimpleClass()\n",
        "\n",
        "cls = Autodata.create(NestedClass)\n",
        "print(f'id = {cls.id}')\n",
        "print(f'text = {cls.text}')\n",
        "print(f'inner.id = {cls.inner.id}')\n",
        "print(f'inner.text = {cls.inner.text}')"
      ]
    },
    {
      "cell_type": "markdown",
      "metadata": {
        "id": "l3AHwdpKLwnA"
      },
      "source": [
        "Create a collection of an anonymous class with nested types"
      ]
    },
    {
      "cell_type": "code",
      "execution_count": 17,
      "metadata": {
        "colab": {
          "base_uri": "https://localhost:8080/"
        },
        "id": "wjm4NvEPLst9",
        "outputId": "5695ca97-a74e-4d9f-c69a-bd7cf83dab66"
      },
      "outputs": [
        {
          "name": "stdout",
          "output_type": "stream",
          "text": [
            "id = 5118\n",
            "text = a345d274-af77-46b1-b1d7-23b885f66bc1\n",
            "inner.id = 5962\n",
            "inner.text = 56d3c5fc-0750-48e0-a0bf-c7cfc087344f\n",
            "id = 6361\n",
            "text = 790fb03b-5ed8-4a18-9e60-2be928f380a9\n",
            "inner.id = 7325\n",
            "inner.text = 5daaa0fe-e60e-4140-b45e-0a05cba5938c\n",
            "id = 7211\n",
            "text = 12e0db73-34d6-460b-9f6f-9a8554a17e7a\n",
            "inner.id = 9355\n",
            "inner.text = 61f4ce35-fb17-4e80-8650-b387c7b571c7\n"
          ]
        }
      ],
      "source": [
        "class NestedClass:\n",
        "    id = -1\n",
        "    text = 'test'\n",
        "    inner = SimpleClass()\n",
        "\n",
        "classes = Autodata.create_many(NestedClass)\n",
        "for cls in classes:\n",
        "  print(f'id = {cls.id}')\n",
        "  print(f'text = {cls.text}')\n",
        "  print(f'inner.id = {cls.inner.id}')\n",
        "  print(f'inner.text = {cls.inner.text}')"
      ]
    },
    {
      "cell_type": "markdown",
      "metadata": {
        "id": "CJOyVC90HRXN"
      },
      "source": [
        "Create a Pandas DataFrame using anonymous data generated from a specified type"
      ]
    },
    {
      "cell_type": "code",
      "execution_count": 18,
      "metadata": {
        "colab": {
          "base_uri": "https://localhost:8080/"
        },
        "id": "ZwHYNTlhFas6",
        "outputId": "e9b7f27e-dfb0-43b3-a681-3f5950f2393f"
      },
      "outputs": [
        {
          "name": "stdout",
          "output_type": "stream",
          "text": [
            "     id                                  type  value\n",
            "0  3166  1225344f-63ae-4f8d-992e-34ae111e6c14   8749\n",
            "1  5700  76f23eac-39ea-45fb-840c-8268bd1f615b   3325\n",
            "2  6647  5581ea44-fd84-4799-a1cf-89743603784b   2130\n"
          ]
        }
      ],
      "source": [
        "class DataClass:\n",
        "    id = -1\n",
        "    type = '' \n",
        "    value = 0\n",
        "\n",
        "pdf = Autodata.create_pandas_dataframe(DataClass)\n",
        "print(pdf)"
      ]
    },
    {
      "cell_type": "markdown",
      "metadata": {
        "id": "hmr4p8W2PrJ2"
      },
      "source": [
        "Create a Pandas DataFrame using fake data generated from a specified type"
      ]
    },
    {
      "cell_type": "code",
      "execution_count": 54,
      "metadata": {
        "colab": {
          "base_uri": "https://localhost:8080/"
        },
        "id": "Ul35xUycPsQ0",
        "outputId": "11901f6c-c445-4667-f20d-67ab3ebe622c"
      },
      "outputs": [
        {
          "name": "stdout",
          "output_type": "stream",
          "text": [
            "  first_name    id  last_name         phone_number\n",
            "0    Michael  5060   Williams         518-903-3552\n",
            "1     Daniel  9280   Thompson   861-831-7399x30399\n",
            "2     Austin  1020  Gillespie  +1-526-451-3570x529\n"
          ]
        }
      ],
      "source": [
        "@dataclass\n",
        "class DataClass:\n",
        "    id: int\n",
        "    first_name: str\n",
        "    last_name: str\n",
        "    phone_number: str\n",
        "\n",
        "pdf = Autodata.create_pandas_dataframe(DataClass, use_fake_data=True)\n",
        "print(pdf)"
      ]
    }
  ],
  "metadata": {
    "colab": {
      "authorship_tag": "ABX9TyMg6UCtF4FhhmTPsFiOdbqN",
      "include_colab_link": true,
      "name": "cheatsheet.ipynb",
      "provenance": []
    },
    "kernelspec": {
      "display_name": "Python 3",
      "name": "python3"
    },
    "language_info": {
      "codemirror_mode": {
        "name": "ipython",
        "version": 3
      },
      "file_extension": ".py",
      "mimetype": "text/x-python",
      "name": "python",
      "nbconvert_exporter": "python",
      "pygments_lexer": "ipython3",
      "version": "3.8.10"
    }
  },
  "nbformat": 4,
  "nbformat_minor": 0
}
