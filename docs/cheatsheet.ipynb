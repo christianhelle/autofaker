{
  "nbformat": 4,
  "nbformat_minor": 0,
  "metadata": {
    "colab": {
      "name": "cheatsheet.ipynb",
      "provenance": [],
      "authorship_tag": "ABX9TyMs+iNlrivNf/N7tonZGyF7",
      "include_colab_link": true
    },
    "kernelspec": {
      "name": "python3",
      "display_name": "Python 3"
    },
    "language_info": {
      "name": "python"
    }
  },
  "cells": [
    {
      "cell_type": "markdown",
      "metadata": {
        "id": "view-in-github",
        "colab_type": "text"
      },
      "source": [
        "<a href=\"https://colab.research.google.com/github/christianhelle/autofaker/blob/main/docs/cheatsheet.ipynb\" target=\"_parent\"><img src=\"https://colab.research.google.com/assets/colab-badge.svg\" alt=\"Open In Colab\"/></a>"
      ]
    },
    {
      "cell_type": "markdown",
      "metadata": {
        "id": "0y_MgveJHZG9"
      },
      "source": [
        "Install autofaker from PyPI"
      ]
    },
    {
      "cell_type": "code",
      "metadata": {
        "id": "wjLc6v4cDfUm",
        "colab": {
          "base_uri": "https://localhost:8080/"
        },
        "outputId": "75facc6f-87c9-4da2-b645-9c9e36af067b"
      },
      "source": [
        "pip install autofaker"
      ],
      "execution_count": 1,
      "outputs": [
        {
          "output_type": "stream",
          "name": "stdout",
          "text": [
            "Collecting autofaker\n",
            "  Downloading autofaker-0.1.1-py3-none-any.whl (6.5 kB)\n",
            "Requirement already satisfied: pandas in /usr/local/lib/python3.7/dist-packages (from autofaker) (1.1.5)\n",
            "Collecting pyspark\n",
            "  Downloading pyspark-3.1.2.tar.gz (212.4 MB)\n",
            "\u001b[K     |████████████████████████████████| 212.4 MB 74 kB/s \n",
            "\u001b[?25hRequirement already satisfied: numpy>=1.15.4 in /usr/local/lib/python3.7/dist-packages (from pandas->autofaker) (1.19.5)\n",
            "Requirement already satisfied: pytz>=2017.2 in /usr/local/lib/python3.7/dist-packages (from pandas->autofaker) (2018.9)\n",
            "Requirement already satisfied: python-dateutil>=2.7.3 in /usr/local/lib/python3.7/dist-packages (from pandas->autofaker) (2.8.2)\n",
            "Requirement already satisfied: six>=1.5 in /usr/local/lib/python3.7/dist-packages (from python-dateutil>=2.7.3->pandas->autofaker) (1.15.0)\n",
            "Collecting py4j==0.10.9\n",
            "  Downloading py4j-0.10.9-py2.py3-none-any.whl (198 kB)\n",
            "\u001b[K     |████████████████████████████████| 198 kB 69.3 MB/s \n",
            "\u001b[?25hBuilding wheels for collected packages: pyspark\n",
            "  Building wheel for pyspark (setup.py) ... \u001b[?25l\u001b[?25hdone\n",
            "  Created wheel for pyspark: filename=pyspark-3.1.2-py2.py3-none-any.whl size=212880768 sha256=228ba127e3364cf1811bfbc04e2f625b678a7c5e00787f4be1d3135d5aca89d9\n",
            "  Stored in directory: /root/.cache/pip/wheels/a5/0a/c1/9561f6fecb759579a7d863dcd846daaa95f598744e71b02c77\n",
            "Successfully built pyspark\n",
            "Installing collected packages: py4j, pyspark, autofaker\n",
            "Successfully installed py4j-0.10.9 autofaker-0.1.1 pyspark-3.1.2\n"
          ]
        }
      ]
    },
    {
      "cell_type": "markdown",
      "metadata": {
        "id": "g1T15tRpHc2M"
      },
      "source": [
        "Import modules"
      ]
    },
    {
      "cell_type": "code",
      "metadata": {
        "id": "q72dHzF7AbZH"
      },
      "source": [
        "from autofaker import Autodata"
      ],
      "execution_count": 2,
      "outputs": []
    },
    {
      "cell_type": "markdown",
      "metadata": {
        "id": "WqqaFkjlD9RM"
      },
      "source": [
        "Creates an anonymous variable of the built-in types and dates"
      ]
    },
    {
      "cell_type": "code",
      "metadata": {
        "colab": {
          "base_uri": "https://localhost:8080/"
        },
        "id": "UIrw4-XADVvQ",
        "outputId": "e1e29ade-0c3f-43e8-a51b-90a220a162b4"
      },
      "source": [
        "print(f'anonymous string:    {Autodata.create(str)}')\n",
        "print(f'anonymous int:       {Autodata.create(int)}')\n",
        "print(f'anonymous float:     {Autodata.create(float)}')\n",
        "\n",
        "import datetime\n",
        "print(f'anonymous datetime:  {Autodata.create(datetime)}')\n",
        "print(f'anonymous date:      {Autodata.create(datetime.date)}')"
      ],
      "execution_count": 3,
      "outputs": [
        {
          "output_type": "stream",
          "name": "stdout",
          "text": [
            "anonymous string:    f91954f1-96df-463f-a427-665c99213395\n",
            "anonymous int:       2066712686\n",
            "anonymous float:     725758222.8712853\n",
            "anonymous datetime:  2017-06-19 02:40:41.000084\n",
            "anonymous date:      2019-11-10 00:00:00\n"
          ]
        }
      ]
    },
    {
      "cell_type": "markdown",
      "metadata": {
        "id": "nAfIhGksKhfD"
      },
      "source": [
        "Create collections containing anonymous variables of built-in types and dates"
      ]
    },
    {
      "cell_type": "code",
      "metadata": {
        "colab": {
          "base_uri": "https://localhost:8080/"
        },
        "id": "Jp_Tvn71KgI0",
        "outputId": "0bed4b12-ef8f-4ad6-8f15-8c01538c1995"
      },
      "source": [
        "print(f'anonymous strings:    {Autodata.create_many(str)}')\n",
        "print(f'anonymous ints:       {Autodata.create_many(int, 10)}')\n",
        "print(f'anonymous floats:     {Autodata.create_many(float, 5)}')\n",
        "\n",
        "import datetime\n",
        "print(f'anonymous datetime:  {Autodata.create_many(datetime)}')\n",
        "print(f'anonymous date:      {Autodata.create_many(datetime.date)}')"
      ],
      "execution_count": 4,
      "outputs": [
        {
          "output_type": "stream",
          "name": "stdout",
          "text": [
            "anonymous strings:    ['f7ebaf30-468b-4282-9189-1c9f5a98c6e4', '6736ccdd-fb06-4fd0-89d7-0979a8493d79', 'f15736eb-2860-4f42-91c1-e48c8d25ea24']\n",
            "anonymous ints:       [706865421, 1670005830, 1966806327, 434303989, 454137879, 1940686334, 307384148, 1090980019, 936257994, 9154693]\n",
            "anonymous floats:     [684196408.4474499, 1188750352.5678303, 963320036.0875875, 1702383000.8534415, 1865911801.1348956]\n",
            "anonymous datetime:  [datetime.datetime(2028, 12, 2, 13, 0, 52, 140), datetime.datetime(2021, 9, 7, 22, 39, 58, 919), datetime.datetime(2027, 12, 25, 13, 15, 28, 694)]\n",
            "anonymous date:      [datetime.datetime(2019, 3, 3, 0, 0), datetime.datetime(2026, 4, 13, 0, 0), datetime.datetime(2016, 2, 24, 0, 0)]\n"
          ]
        }
      ]
    },
    {
      "cell_type": "markdown",
      "metadata": {
        "id": "WouPj313E84s"
      },
      "source": [
        "Creates an anonymous class"
      ]
    },
    {
      "cell_type": "code",
      "metadata": {
        "colab": {
          "base_uri": "https://localhost:8080/"
        },
        "id": "_zSjLhnNE7Jv",
        "outputId": "65364c33-bd45-418f-9bae-5a705b0fc195"
      },
      "source": [
        "class SimpleClass:\n",
        "    id = 123\n",
        "    text = 'test'\n",
        "\n",
        "cls = Autodata.create(SimpleClass)\n",
        "print(f'id = {cls.id}')\n",
        "print(f'text = {cls.text}')"
      ],
      "execution_count": 5,
      "outputs": [
        {
          "output_type": "stream",
          "name": "stdout",
          "text": [
            "id = 2020177162\n",
            "text = ac54a65d-b4a3-4eda-a840-eb948ad10d5f\n"
          ]
        }
      ]
    },
    {
      "cell_type": "markdown",
      "metadata": {
        "id": "w9Y0ew5bK38i"
      },
      "source": [
        "Create a collection of an anonymous class"
      ]
    },
    {
      "cell_type": "code",
      "metadata": {
        "colab": {
          "base_uri": "https://localhost:8080/"
        },
        "id": "RIECrPirK7qY",
        "outputId": "262d5811-36cb-446a-c41c-e5ceefd92b03"
      },
      "source": [
        "class SimpleClass:\n",
        "    id = 123\n",
        "    text = 'test'\n",
        "\n",
        "classes = Autodata.create_many(SimpleClass)\n",
        "for cls in classes:\n",
        "  print(f'id = {cls.id}')\n",
        "  print(f'text = {cls.text}')\n",
        "  print()"
      ],
      "execution_count": 6,
      "outputs": [
        {
          "output_type": "stream",
          "name": "stdout",
          "text": [
            "id = 242996515\n",
            "text = 5bb60504-ccca-4104-9b7f-b978e52a6518\n",
            "\n",
            "id = 836984239\n",
            "text = 079df61e-a87e-4f26-8196-3f44157aabd6\n",
            "\n",
            "id = 570703150\n",
            "text = a3b86f08-c73a-4730-bde7-4bdff5360ef4\n",
            "\n"
          ]
        }
      ]
    },
    {
      "cell_type": "markdown",
      "metadata": {
        "id": "wsAiwcRlHMIO"
      },
      "source": [
        "Create an anonymous class with nested types"
      ]
    },
    {
      "cell_type": "code",
      "metadata": {
        "colab": {
          "base_uri": "https://localhost:8080/"
        },
        "id": "kZC_mo7-FRRm",
        "outputId": "b108db0c-1f00-4897-bb52-693290bd0f4c"
      },
      "source": [
        "class NestedClass:\n",
        "    id = 123\n",
        "    text = 'test'\n",
        "    inner = SimpleClass()\n",
        "\n",
        "cls = Autodata.create(NestedClass)\n",
        "print(f'id = {cls.id}')\n",
        "print(f'text = {cls.text}')\n",
        "print(f'inner.id = {cls.inner.id}')\n",
        "print(f'inner.text = {cls.inner.text}')"
      ],
      "execution_count": 7,
      "outputs": [
        {
          "output_type": "stream",
          "name": "stdout",
          "text": [
            "id = 1565737216\n",
            "text = e66ecd5c-c17a-4426-b755-36dfd2082672\n",
            "inner.id = 390282329\n",
            "inner.text = eef94b5c-aa95-427a-a9e6-d99e2cc1ffb2\n"
          ]
        }
      ]
    },
    {
      "cell_type": "markdown",
      "metadata": {
        "id": "l3AHwdpKLwnA"
      },
      "source": [
        "Create a collection of an anonymous class with nested types"
      ]
    },
    {
      "cell_type": "code",
      "metadata": {
        "colab": {
          "base_uri": "https://localhost:8080/"
        },
        "id": "wjm4NvEPLst9",
        "outputId": "d95cd249-f0cc-4a9f-a2c5-02a490751847"
      },
      "source": [
        "class NestedClass:\n",
        "    id = 123\n",
        "    text = 'test'\n",
        "    inner = SimpleClass()\n",
        "\n",
        "classes = Autodata.create_many(NestedClass)\n",
        "for cls in classes:\n",
        "  print(f'id = {cls.id}')\n",
        "  print(f'text = {cls.text}')\n",
        "  print(f'inner.id = {cls.inner.id}')\n",
        "  print(f'inner.text = {cls.inner.text}')"
      ],
      "execution_count": 8,
      "outputs": [
        {
          "output_type": "stream",
          "name": "stdout",
          "text": [
            "id = 1116454042\n",
            "text = ceeecf0c-7375-4f3a-8d4b-6d7a4f2b20fd\n",
            "inner.id = 1067027444\n",
            "inner.text = 079573ce-1ef4-408d-8984-1dbc7b0d0b80\n",
            "id = 730390288\n",
            "text = ff3ca474-a69d-4ff6-95b4-fbdb1bea7cdb\n",
            "inner.id = 1632771208\n",
            "inner.text = 9423e824-dc8f-4145-ba47-7301351a91f8\n",
            "id = 187364960\n",
            "text = b31ca191-5031-43a2-870a-7bc7c99e4110\n",
            "inner.id = 1705149100\n",
            "inner.text = e703a117-ba4f-4201-a31b-10ab8e54a673\n"
          ]
        }
      ]
    },
    {
      "cell_type": "markdown",
      "metadata": {
        "id": "CJOyVC90HRXN"
      },
      "source": [
        "Create a Pandas DataFrame using anonymous data generated from a specified type"
      ]
    },
    {
      "cell_type": "code",
      "metadata": {
        "colab": {
          "base_uri": "https://localhost:8080/"
        },
        "id": "ZwHYNTlhFas6",
        "outputId": "a21aa1f6-abfb-432e-beec-68ac785454e8"
      },
      "source": [
        "class DataClass:\n",
        "    id = 0\n",
        "    type = '' \n",
        "    value = 0\n",
        "\n",
        "pdf = Autodata.create_pandas_dataframe(DataClass)\n",
        "print(pdf)"
      ],
      "execution_count": 9,
      "outputs": [
        {
          "output_type": "stream",
          "name": "stdout",
          "text": [
            "          id                                  type       value\n",
            "0  778090854  13537c5a-62e7-488b-836e-a4b17f2f3ae9  1049015695\n",
            "1  602015506  c043ca8d-e280-466a-8bba-ec1e0539fe28  1016359353\n",
            "2  387753717  986b3b1c-abf4-4bc1-95cf-0e979390e4f3   766159839\n"
          ]
        }
      ]
    },
    {
      "cell_type": "markdown",
      "metadata": {
        "id": "GCuI-GrqMw1a"
      },
      "source": [
        "Create a Spark DataFrame using anonymous data generated from a specified type"
      ]
    },
    {
      "cell_type": "code",
      "metadata": {
        "id": "VsVho_sxHsgP",
        "colab": {
          "base_uri": "https://localhost:8080/"
        },
        "outputId": "25fbefed-049a-4e95-febc-1e45ae6b41de"
      },
      "source": [
        "class DataClass:\n",
        "    id = 0\n",
        "    type = '' \n",
        "    value = 0\n",
        "\n",
        "df = Autodata.create_spark_dataframe(DataClass)\n",
        "df.printSchema()\n",
        "df.show()"
      ],
      "execution_count": 12,
      "outputs": [
        {
          "output_type": "stream",
          "name": "stdout",
          "text": [
            "root\n",
            " |-- id: long (nullable = true)\n",
            " |-- type: string (nullable = true)\n",
            " |-- value: long (nullable = true)\n",
            "\n",
            "+----------+--------------------+----------+\n",
            "|        id|                type|     value|\n",
            "+----------+--------------------+----------+\n",
            "| 938634666|630040b1-0703-437...|1417827879|\n",
            "| 239684437|69ca65d5-81a6-418...|1932787106|\n",
            "|1978525110|dfdc19df-ba47-43d...| 366058214|\n",
            "+----------+--------------------+----------+\n",
            "\n"
          ]
        }
      ]
    }
  ]
}