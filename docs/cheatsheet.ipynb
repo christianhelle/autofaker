{
  "nbformat": 4,
  "nbformat_minor": 0,
  "metadata": {
    "colab": {
      "name": "cheatsheet.ipynb",
      "provenance": [],
      "authorship_tag": "ABX9TyMg6UCtF4FhhmTPsFiOdbqN",
      "include_colab_link": true
    },
    "kernelspec": {
      "name": "python3",
      "display_name": "Python 3"
    },
    "language_info": {
      "name": "python"
    }
  },
  "cells": [
    {
      "cell_type": "markdown",
      "metadata": {
        "id": "view-in-github",
        "colab_type": "text"
      },
      "source": [
        "<a href=\"https://colab.research.google.com/github/christianhelle/autofaker/blob/main/docs/cheatsheet.ipynb\" target=\"_parent\"><img src=\"https://colab.research.google.com/assets/colab-badge.svg\" alt=\"Open In Colab\"/></a>"
      ]
    },
    {
      "cell_type": "markdown",
      "metadata": {
        "id": "0y_MgveJHZG9"
      },
      "source": [
        "Install AutoFaker from PyPI"
      ]
    },
    {
      "cell_type": "code",
      "metadata": {
        "id": "wjLc6v4cDfUm",
        "colab": {
          "base_uri": "https://localhost:8080/"
        },
        "outputId": "4592098e-7f70-4315-f234-ae38c435099b"
      },
      "source": [
        "pip install autofaker"
      ],
      "execution_count": 1,
      "outputs": [
        {
          "output_type": "stream",
          "name": "stdout",
          "text": [
            "Collecting autofaker\n",
            "  Downloading autofaker-0.1.1-py3-none-any.whl (10 kB)\n",
            "Collecting pyspark\n",
            "  Downloading pyspark-3.1.2.tar.gz (212.4 MB)\n",
            "\u001b[K     |████████████████████████████████| 212.4 MB 65 kB/s \n",
            "\u001b[?25hCollecting faker\n",
            "  Downloading Faker-9.3.1-py3-none-any.whl (1.2 MB)\n",
            "\u001b[K     |████████████████████████████████| 1.2 MB 46.8 MB/s \n",
            "\u001b[?25hRequirement already satisfied: pandas in /usr/local/lib/python3.7/dist-packages (from autofaker) (1.1.5)\n",
            "Requirement already satisfied: python-dateutil>=2.4 in /usr/local/lib/python3.7/dist-packages (from faker->autofaker) (2.8.2)\n",
            "Requirement already satisfied: text-unidecode==1.3 in /usr/local/lib/python3.7/dist-packages (from faker->autofaker) (1.3)\n",
            "Requirement already satisfied: six>=1.5 in /usr/local/lib/python3.7/dist-packages (from python-dateutil>=2.4->faker->autofaker) (1.15.0)\n",
            "Requirement already satisfied: pytz>=2017.2 in /usr/local/lib/python3.7/dist-packages (from pandas->autofaker) (2018.9)\n",
            "Requirement already satisfied: numpy>=1.15.4 in /usr/local/lib/python3.7/dist-packages (from pandas->autofaker) (1.19.5)\n",
            "Collecting py4j==0.10.9\n",
            "  Downloading py4j-0.10.9-py2.py3-none-any.whl (198 kB)\n",
            "\u001b[K     |████████████████████████████████| 198 kB 65.1 MB/s \n",
            "\u001b[?25hBuilding wheels for collected packages: pyspark\n",
            "  Building wheel for pyspark (setup.py) ... \u001b[?25l\u001b[?25hdone\n",
            "  Created wheel for pyspark: filename=pyspark-3.1.2-py2.py3-none-any.whl size=212880768 sha256=d943220856e55a60c2dfd8d7a17b2b8b526604f85509443b80378b0fa373d6bd\n",
            "  Stored in directory: /root/.cache/pip/wheels/a5/0a/c1/9561f6fecb759579a7d863dcd846daaa95f598744e71b02c77\n",
            "Successfully built pyspark\n",
            "Installing collected packages: py4j, pyspark, faker, autofaker\n",
            "Successfully installed autofaker-0.1.1 faker-9.3.1 py4j-0.10.9 pyspark-3.1.2\n"
          ]
        }
      ]
    },
    {
      "cell_type": "markdown",
      "metadata": {
        "id": "g1T15tRpHc2M"
      },
      "source": [
        "Import modules"
      ]
    },
    {
      "cell_type": "code",
      "metadata": {
        "id": "q72dHzF7AbZH"
      },
      "source": [
        "from autofaker import Autodata"
      ],
      "execution_count": 2,
      "outputs": []
    },
    {
      "cell_type": "markdown",
      "metadata": {
        "id": "WqqaFkjlD9RM"
      },
      "source": [
        "Creates an anonymous variable of the built-in types and dates"
      ]
    },
    {
      "cell_type": "code",
      "metadata": {
        "colab": {
          "base_uri": "https://localhost:8080/"
        },
        "id": "UIrw4-XADVvQ",
        "outputId": "290e1316-1f0e-4bec-e2b1-c05306b0f5f7"
      },
      "source": [
        "print(f'anonymous string:    {Autodata.create(str)}')\n",
        "print(f'anonymous int:       {Autodata.create(int)}')\n",
        "print(f'anonymous float:     {Autodata.create(float)}')\n",
        "\n",
        "import datetime\n",
        "print(f'anonymous datetime:  {Autodata.create(datetime)}')\n",
        "print(f'anonymous date:      {Autodata.create(datetime.date)}')"
      ],
      "execution_count": 3,
      "outputs": [
        {
          "output_type": "stream",
          "name": "stdout",
          "text": [
            "anonymous string:    c9f61e41-46e4-4bfe-ac22-fe58e6a9aa5f\n",
            "anonymous int:       9801\n",
            "anonymous float:     6913.594700054302\n",
            "anonymous datetime:  2025-08-12 02:16:25.000021\n",
            "anonymous date:      2014-02-12 00:00:00\n"
          ]
        }
      ]
    },
    {
      "cell_type": "markdown",
      "metadata": {
        "id": "nAfIhGksKhfD"
      },
      "source": [
        "Create collections containing anonymous variables of built-in types and dates"
      ]
    },
    {
      "cell_type": "code",
      "metadata": {
        "colab": {
          "base_uri": "https://localhost:8080/"
        },
        "id": "Jp_Tvn71KgI0",
        "outputId": "e522286f-654b-4b43-f287-e966ffd27af6"
      },
      "source": [
        "print(f'anonymous strings:    {Autodata.create_many(str)}')\n",
        "print(f'anonymous ints:       {Autodata.create_many(int, 10)}')\n",
        "print(f'anonymous floats:     {Autodata.create_many(float, 5)}')\n",
        "\n",
        "import datetime\n",
        "print(f'anonymous datetime:   {Autodata.create_many(datetime)}')\n",
        "print(f'anonymous date:       {Autodata.create_many(datetime.date)}')"
      ],
      "execution_count": 4,
      "outputs": [
        {
          "output_type": "stream",
          "name": "stdout",
          "text": [
            "anonymous strings:    ['2c1b6847-85e9-444f-97d2-b2330092e43d', '0717051e-aa9a-48fb-8840-5320e8dc3f27', 'b3828833-03f6-402f-83a4-aa12f8b0f8c7']\n",
            "anonymous ints:       [8534, 3943, 393, 617, 7271, 2301, 880, 9059, 3727, 6034]\n",
            "anonymous floats:     [9039.43798962022, 3270.411738870235, 9319.891162871703, 3843.2526976276995, 6174.879493069972]\n",
            "anonymous datetime:   [datetime.datetime(2025, 5, 10, 14, 21, 26, 143), datetime.datetime(2017, 5, 10, 19, 28, 53, 323), datetime.datetime(2022, 9, 12, 22, 37, 39, 555)]\n",
            "anonymous date:       [datetime.datetime(2015, 12, 12, 0, 0), datetime.datetime(2028, 6, 16, 0, 0), datetime.datetime(2015, 2, 1, 0, 0)]\n"
          ]
        }
      ]
    },
    {
      "cell_type": "markdown",
      "metadata": {
        "id": "WouPj313E84s"
      },
      "source": [
        "Creates an anonymous class"
      ]
    },
    {
      "cell_type": "code",
      "metadata": {
        "colab": {
          "base_uri": "https://localhost:8080/"
        },
        "id": "_zSjLhnNE7Jv",
        "outputId": "8455307b-4968-487b-b0df-ee9f113fc227"
      },
      "source": [
        "class SimpleClass:\n",
        "    id = 0\n",
        "    text = 'test'\n",
        "\n",
        "cls = Autodata.create(SimpleClass)\n",
        "print(f'id = {cls.id}')\n",
        "print(f'text = {cls.text}')"
      ],
      "execution_count": 5,
      "outputs": [
        {
          "output_type": "stream",
          "name": "stdout",
          "text": [
            "id = 7452\n",
            "text = a610d4dc-5a2d-4c4d-8843-0fdbd91ef6ac\n"
          ]
        }
      ]
    },
    {
      "cell_type": "markdown",
      "metadata": {
        "id": "CBc66gUCQK6h"
      },
      "source": [
        "Creates an anonymous dataclass"
      ]
    },
    {
      "cell_type": "code",
      "metadata": {
        "colab": {
          "base_uri": "https://localhost:8080/"
        },
        "id": "WcY9GZ7vQKEy",
        "outputId": "b5c358c0-e24b-4fb0-9623-df2db565c974"
      },
      "source": [
        "from dataclasses import dataclass\n",
        "\n",
        "@dataclass\n",
        "class DataClass:\n",
        "    id: int\n",
        "    text: str\n",
        "\n",
        "cls = Autodata.create(DataClass)\n",
        "print(f'id = {cls.id}')\n",
        "print(f'text = {cls.text}')"
      ],
      "execution_count": 6,
      "outputs": [
        {
          "output_type": "stream",
          "name": "stdout",
          "text": [
            "id = 2133\n",
            "text = 8c51f2de-da29-44ab-8a57-953480df6dd0\n"
          ]
        }
      ]
    },
    {
      "cell_type": "markdown",
      "metadata": {
        "id": "l-5AkSAMSvo2"
      },
      "source": [
        "Creates an anonymous dataclass using fake data"
      ]
    },
    {
      "cell_type": "code",
      "metadata": {
        "colab": {
          "base_uri": "https://localhost:8080/"
        },
        "id": "yDs1K1GISuu7",
        "outputId": "3b3daa97-bf71-46b1-9577-6d2fc1341432"
      },
      "source": [
        "@dataclass\n",
        "class DataClass:\n",
        "    id: int\n",
        "\n",
        "    name: str\n",
        "    address: str\n",
        "    job: str\n",
        "\n",
        "    country: str\n",
        "    currency_name: str\n",
        "    currency_code: str\n",
        "\n",
        "    email: str\n",
        "    safe_email: str\n",
        "    company_email: str\n",
        "\n",
        "    hostname: str\n",
        "    ipv4: str\n",
        "    ipv6: str\n",
        "\n",
        "    text: str\n",
        "\n",
        "\n",
        "data = Autodata.create(DataClass, use_fake_data=True)\n",
        "\n",
        "print(f'id:               {data.id}')\n",
        "print(f'name:             {data.name}')\n",
        "print(f'job:              {data.job}\\n')\n",
        "print(f'address:\\n{data.address}\\n')\n",
        "\n",
        "print(f'country:          {data.country}')\n",
        "print(f'currency name:    {data.currency_name}')\n",
        "print(f'currency code:    {data.currency_code}\\n')\n",
        "\n",
        "print(f'email:            {data.email}')\n",
        "print(f'safe email:       {data.safe_email}')\n",
        "print(f'work email:       {data.company_email}\\n')\n",
        "\n",
        "print(f'hostname:         {data.hostname}')\n",
        "print(f'IPv4:             {data.ipv4}')\n",
        "print(f'IPv6:             {data.ipv6}\\n')\n",
        "\n",
        "print(f'text:\\n{data.text}')"
      ],
      "execution_count": 7,
      "outputs": [
        {
          "output_type": "stream",
          "name": "stdout",
          "text": [
            "id:               9625\n",
            "name:             Keith Richards\n",
            "job:              Geoscientist\n",
            "\n",
            "address:\n",
            "Unit 9045 Box 8283\n",
            "DPO AA 44367\n",
            "\n",
            "country:          Solomon Islands\n",
            "currency name:    Swedish krona\n",
            "currency code:    DOP\n",
            "\n",
            "email:            feliciajackson@example.org\n",
            "safe email:       morenosandra@example.org\n",
            "work email:       billy49@mitchell.com\n",
            "\n",
            "hostname:         lt-55.fleming-dominguez.biz\n",
            "IPv4:             162.55.78.206\n",
            "IPv6:             312f:3ac8:f656:651:11a4:284b:7d8f:7bf1\n",
            "\n",
            "text:\n",
            "Bank add up story. Service north animal nature.\n",
            "Most because growth day. Soon me station set pattern move. Identify course economy it participant reduce result.\n"
          ]
        }
      ]
    },
    {
      "cell_type": "markdown",
      "metadata": {
        "id": "w9Y0ew5bK38i"
      },
      "source": [
        "Create a collection of an anonymous class"
      ]
    },
    {
      "cell_type": "code",
      "metadata": {
        "colab": {
          "base_uri": "https://localhost:8080/"
        },
        "id": "RIECrPirK7qY",
        "outputId": "4d450f89-04e9-45ae-de31-8185167851ec"
      },
      "source": [
        "class SimpleClass:\n",
        "    id = 0\n",
        "    text = 'test'\n",
        "\n",
        "classes = Autodata.create_many(SimpleClass)\n",
        "for cls in classes:\n",
        "  print(f'id = {cls.id}')\n",
        "  print(f'text = {cls.text}')\n",
        "  print()"
      ],
      "execution_count": 8,
      "outputs": [
        {
          "output_type": "stream",
          "name": "stdout",
          "text": [
            "id = 3675\n",
            "text = 9ad2c33e-6e71-489d-a703-9376d8c68867\n",
            "\n",
            "id = 4279\n",
            "text = 8044a0c4-bedb-4e96-b441-2f78e84b64ef\n",
            "\n",
            "id = 6627\n",
            "text = 67aab9c1-b8fc-49f0-b124-8d3bdee14e5e\n",
            "\n"
          ]
        }
      ]
    },
    {
      "cell_type": "markdown",
      "metadata": {
        "id": "wsAiwcRlHMIO"
      },
      "source": [
        "Create an anonymous class with nested types"
      ]
    },
    {
      "cell_type": "code",
      "metadata": {
        "colab": {
          "base_uri": "https://localhost:8080/"
        },
        "id": "kZC_mo7-FRRm",
        "outputId": "affee7e8-b785-4fd6-b1b4-5876053d5b68"
      },
      "source": [
        "class NestedClass:\n",
        "    id = 0\n",
        "    text = 'test'\n",
        "    inner = SimpleClass()\n",
        "\n",
        "cls = Autodata.create(NestedClass)\n",
        "print(f'id = {cls.id}')\n",
        "print(f'text = {cls.text}')\n",
        "print(f'inner.id = {cls.inner.id}')\n",
        "print(f'inner.text = {cls.inner.text}')"
      ],
      "execution_count": 9,
      "outputs": [
        {
          "output_type": "stream",
          "name": "stdout",
          "text": [
            "id = 5506\n",
            "text = 36606555-95b6-4145-bdd8-c6872198d75a\n",
            "inner.id = 9457\n",
            "inner.text = e7f2761a-052c-40d6-a5c8-580a6bab418e\n"
          ]
        }
      ]
    },
    {
      "cell_type": "markdown",
      "metadata": {
        "id": "l3AHwdpKLwnA"
      },
      "source": [
        "Create a collection of an anonymous class with nested types"
      ]
    },
    {
      "cell_type": "code",
      "metadata": {
        "colab": {
          "base_uri": "https://localhost:8080/"
        },
        "id": "wjm4NvEPLst9",
        "outputId": "5695ca97-a74e-4d9f-c69a-bd7cf83dab66"
      },
      "source": [
        "class NestedClass:\n",
        "    id = 0\n",
        "    text = 'test'\n",
        "    inner = SimpleClass()\n",
        "\n",
        "classes = Autodata.create_many(NestedClass)\n",
        "for cls in classes:\n",
        "  print(f'id = {cls.id}')\n",
        "  print(f'text = {cls.text}')\n",
        "  print(f'inner.id = {cls.inner.id}')\n",
        "  print(f'inner.text = {cls.inner.text}')"
      ],
      "execution_count": 10,
      "outputs": [
        {
          "output_type": "stream",
          "name": "stdout",
          "text": [
            "id = 5123\n",
            "text = 20018a82-62db-4318-ac65-e98e8df47f80\n",
            "inner.id = 4855\n",
            "inner.text = 21f657bc-b850-4a41-829c-ae31c9f490b4\n",
            "id = 2991\n",
            "text = 3e54c1ad-ba97-4989-a8c0-3270f9ef195d\n",
            "inner.id = 3243\n",
            "inner.text = 4c63aef5-0867-4a61-95ac-5a6200cf9c8b\n",
            "id = 3218\n",
            "text = a2d00017-9796-4447-8295-2ed0b8a32e65\n",
            "inner.id = 2240\n",
            "inner.text = f4cafbe3-8f51-4a5b-ac17-3cb616de8160\n"
          ]
        }
      ]
    },
    {
      "cell_type": "markdown",
      "metadata": {
        "id": "CJOyVC90HRXN"
      },
      "source": [
        "Create a Pandas DataFrame using anonymous data generated from a specified type"
      ]
    },
    {
      "cell_type": "code",
      "metadata": {
        "colab": {
          "base_uri": "https://localhost:8080/"
        },
        "id": "ZwHYNTlhFas6",
        "outputId": "e9b7f27e-dfb0-43b3-a681-3f5950f2393f"
      },
      "source": [
        "class DataClass:\n",
        "    id = 0\n",
        "    type = '' \n",
        "    value = 0\n",
        "\n",
        "pdf = Autodata.create_pandas_dataframe(DataClass)\n",
        "print(pdf)"
      ],
      "execution_count": 11,
      "outputs": [
        {
          "output_type": "stream",
          "name": "stdout",
          "text": [
            "     id                                  type  value\n",
            "0   881  9a5a8f4c-4daf-4334-aef4-d1a9826e8cba   3295\n",
            "1  8641  39fe5652-3315-4bff-a76e-1fa18772bab3   6725\n",
            "2  8241  7a51ce7c-d831-494f-a4d1-d193c29d2f74   5868\n"
          ]
        }
      ]
    },
    {
      "cell_type": "markdown",
      "metadata": {
        "id": "hmr4p8W2PrJ2"
      },
      "source": [
        "Create a Pandas DataFrame using fake data generated from a specified type"
      ]
    },
    {
      "cell_type": "code",
      "metadata": {
        "colab": {
          "base_uri": "https://localhost:8080/"
        },
        "id": "Ul35xUycPsQ0",
        "outputId": "11901f6c-c445-4667-f20d-67ab3ebe622c"
      },
      "source": [
        "@dataclass\n",
        "class DataClass:\n",
        "    id: int\n",
        "    first_name: str\n",
        "    last_name: str\n",
        "    phone_number: str\n",
        "\n",
        "pdf = Autodata.create_pandas_dataframe(DataClass, use_fake_data=True)\n",
        "print(pdf)"
      ],
      "execution_count": 12,
      "outputs": [
        {
          "output_type": "stream",
          "name": "stdout",
          "text": [
            "  first_name    id last_name         phone_number\n",
            "0     Joseph  7885   Parrish   153.993.0504x99360\n",
            "1    Zachary   948      Sims     001-955-065-0542\n",
            "2       Ryan  5349  Browning  +1-102-386-2956x440\n"
          ]
        }
      ]
    },
    {
      "cell_type": "markdown",
      "metadata": {
        "id": "GCuI-GrqMw1a"
      },
      "source": [
        "Create a Spark DataFrame using anonymous data generated from a specified type"
      ]
    },
    {
      "cell_type": "code",
      "metadata": {
        "id": "VsVho_sxHsgP",
        "colab": {
          "base_uri": "https://localhost:8080/"
        },
        "outputId": "0559b965-e575-462f-a689-0f1679aedf28"
      },
      "source": [
        "@dataclass\n",
        "class DataClass:\n",
        "    id: int\n",
        "    first_name: str\n",
        "    last_name: str\n",
        "    phone_number: str\n",
        "\n",
        "df = Autodata.create_spark_dataframe(DataClass)\n",
        "df.printSchema()\n",
        "df.show()"
      ],
      "execution_count": 13,
      "outputs": [
        {
          "output_type": "stream",
          "name": "stdout",
          "text": [
            "root\n",
            " |-- first_name: string (nullable = true)\n",
            " |-- id: long (nullable = true)\n",
            " |-- last_name: string (nullable = true)\n",
            " |-- phone_number: string (nullable = true)\n",
            "\n",
            "+--------------------+----+--------------------+--------------------+\n",
            "|          first_name|  id|           last_name|        phone_number|\n",
            "+--------------------+----+--------------------+--------------------+\n",
            "|4b776e0b-4842-4c5...|8740|d52920d3-26ce-406...|db3a4fdb-c3d1-476...|\n",
            "|4c53be35-91ed-435...|2641|c9644629-068b-490...|77345c0a-49ce-48d...|\n",
            "|18579ebe-92bd-452...|1928|41d46a78-c10e-40b...|8e5eb120-17f7-415...|\n",
            "+--------------------+----+--------------------+--------------------+\n",
            "\n"
          ]
        }
      ]
    },
    {
      "cell_type": "markdown",
      "metadata": {
        "id": "CVcbfBNgLPKo"
      },
      "source": [
        "Create a Spark DataFrame using fake data generated from a specified type"
      ]
    },
    {
      "cell_type": "code",
      "metadata": {
        "colab": {
          "base_uri": "https://localhost:8080/"
        },
        "id": "ItbosIcrPULE",
        "outputId": "de2d48ab-7279-4692-eb6d-ddbaefae0a18"
      },
      "source": [
        "@dataclass\n",
        "class DataClass:\n",
        "    id: int\n",
        "    first_name: str\n",
        "    last_name: str\n",
        "    job: str\n",
        "\n",
        "df = Autodata.create_spark_dataframe(DataClass, use_fake_data=True)\n",
        "df.printSchema()\n",
        "df.show()"
      ],
      "execution_count": 14,
      "outputs": [
        {
          "output_type": "stream",
          "name": "stdout",
          "text": [
            "root\n",
            " |-- first_name: string (nullable = true)\n",
            " |-- id: long (nullable = true)\n",
            " |-- job: string (nullable = true)\n",
            " |-- last_name: string (nullable = true)\n",
            "\n",
            "+----------+---+--------------------+---------+\n",
            "|first_name| id|                 job|last_name|\n",
            "+----------+---+--------------------+---------+\n",
            "|     Emily|793|Sports administrator| Hamilton|\n",
            "|  Nicholas|495| Corporate treasurer| Davidson|\n",
            "|     Diane|476| Marketing executive|  Aguilar|\n",
            "+----------+---+--------------------+---------+\n",
            "\n"
          ]
        }
      ]
    }
  ]
}
