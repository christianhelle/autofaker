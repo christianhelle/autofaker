{
  "cells": [
    {
      "cell_type": "markdown",
      "metadata": {
        "id": "0y_MgveJHZG9"
      },
      "source": [
        "Install AutoFaker from PyPI"
      ]
    },
    {
      "cell_type": "code",
      "execution_count": null,
      "metadata": {
        "colab": {
          "base_uri": "https://localhost:8080/"
        },
        "id": "wjLc6v4cDfUm",
        "outputId": "4592098e-7f70-4315-f234-ae38c435099b"
      },
      "outputs": [],
      "source": [
        "pip install autofaker"
      ]
    },
    {
      "cell_type": "markdown",
      "metadata": {
        "id": "g1T15tRpHc2M"
      },
      "source": [
        "Import modules"
      ]
    },
    {
      "cell_type": "code",
      "execution_count": 2,
      "metadata": {
        "id": "q72dHzF7AbZH"
      },
      "outputs": [],
      "source": [
        "from autofaker import Autodata"
      ]
    },
    {
      "cell_type": "markdown",
      "metadata": {
        "id": "WqqaFkjlD9RM"
      },
      "source": [
        "Creates an anonymous variable of the built-in types and dates"
      ]
    },
    {
      "cell_type": "code",
      "execution_count": 3,
      "metadata": {
        "colab": {
          "base_uri": "https://localhost:8080/"
        },
        "id": "UIrw4-XADVvQ",
        "outputId": "290e1316-1f0e-4bec-e2b1-c05306b0f5f7"
      },
      "outputs": [
        {
          "name": "stdout",
          "output_type": "stream",
          "text": [
            "anonymous string:    5ba5034b-8d63-45ae-b3f6-d2012d572ba5\n",
            "anonymous int:       3501\n",
            "anonymous float:     1909.161796545137\n",
            "anonymous datetime:  2023-10-22 06:37:12.000143\n",
            "anonymous date:      2027-04-23 00:00:00\n"
          ]
        }
      ],
      "source": [
        "print(f'anonymous string:    {Autodata.create(str)}')\n",
        "print(f'anonymous int:       {Autodata.create(int)}')\n",
        "print(f'anonymous float:     {Autodata.create(float)}')\n",
        "\n",
        "import datetime\n",
        "print(f'anonymous datetime:  {Autodata.create(datetime)}')\n",
        "print(f'anonymous date:      {Autodata.create(datetime.date)}')"
      ]
    },
    {
      "cell_type": "markdown",
      "metadata": {
        "id": "nAfIhGksKhfD"
      },
      "source": [
        "Create collections containing anonymous variables of built-in types and dates"
      ]
    },
    {
      "cell_type": "code",
      "execution_count": 4,
      "metadata": {
        "colab": {
          "base_uri": "https://localhost:8080/"
        },
        "id": "Jp_Tvn71KgI0",
        "outputId": "e522286f-654b-4b43-f287-e966ffd27af6"
      },
      "outputs": [
        {
          "name": "stdout",
          "output_type": "stream",
          "text": [
            "anonymous strings:    ['aca860ca-f7e3-46ec-ac8d-1987475eced6', '93deb23e-9150-4c0e-afbb-6f8ab841a73f', 'c9991d0e-5ffb-475e-8d7b-d41c21b8fc76']\n",
            "anonymous ints:       [340, 6788, 7757, 8050, 1057, 8250, 1449, 7438, 8785, 9561]\n",
            "anonymous floats:     [3891.088134911823, 562.150752313344, 9720.692582482836, 2528.1076652540037, 4967.568810505899]\n",
            "anonymous datetime:   [datetime.datetime(2029, 12, 24, 6, 46, 39, 645), datetime.datetime(2023, 12, 12, 3, 58, 14, 772), datetime.datetime(2030, 11, 9, 22, 11, 44, 350)]\n",
            "anonymous date:       [datetime.datetime(2027, 10, 17, 0, 0), datetime.datetime(2029, 2, 26, 0, 0), datetime.datetime(2013, 10, 1, 0, 0)]\n"
          ]
        }
      ],
      "source": [
        "print(f'anonymous strings:    {Autodata.create_many(str)}')\n",
        "print(f'anonymous ints:       {Autodata.create_many(int, 10)}')\n",
        "print(f'anonymous floats:     {Autodata.create_many(float, 5)}')\n",
        "\n",
        "import datetime\n",
        "print(f'anonymous datetime:   {Autodata.create_many(datetime)}')\n",
        "print(f'anonymous date:       {Autodata.create_many(datetime.date)}')"
      ]
    },
    {
      "cell_type": "markdown",
      "metadata": {
        "id": "WouPj313E84s"
      },
      "source": [
        "Creates an anonymous class"
      ]
    },
    {
      "cell_type": "code",
      "execution_count": 5,
      "metadata": {
        "colab": {
          "base_uri": "https://localhost:8080/"
        },
        "id": "_zSjLhnNE7Jv",
        "outputId": "8455307b-4968-487b-b0df-ee9f113fc227"
      },
      "outputs": [
        {
          "name": "stdout",
          "output_type": "stream",
          "text": [
            "id = 5416\n",
            "text = 577e1b6f-a8c4-4fc5-bfaa-eed378147194\n"
          ]
        }
      ],
      "source": [
        "class SimpleClass:\n",
        "    id = -1\n",
        "    text = 'test'\n",
        "\n",
        "cls = Autodata.create(SimpleClass)\n",
        "print(f'id = {cls.id}')\n",
        "print(f'text = {cls.text}')"
      ]
    },
    {
      "cell_type": "markdown",
      "metadata": {
        "id": "CBc66gUCQK6h"
      },
      "source": [
        "Creates an anonymous dataclass"
      ]
    },
    {
      "cell_type": "code",
      "execution_count": 6,
      "metadata": {
        "colab": {
          "base_uri": "https://localhost:8080/"
        },
        "id": "WcY9GZ7vQKEy",
        "outputId": "b5c358c0-e24b-4fb0-9623-df2db565c974"
      },
      "outputs": [
        {
          "name": "stdout",
          "output_type": "stream",
          "text": [
            "id = 4460\n",
            "text = 71c9aaf9-cef1-4ea8-aac8-ebba8bb8d425\n"
          ]
        }
      ],
      "source": [
        "from dataclasses import dataclass\n",
        "\n",
        "@dataclass\n",
        "class DataClass:\n",
        "    id: int\n",
        "    text: str\n",
        "\n",
        "cls = Autodata.create(DataClass)\n",
        "print(f'id = {cls.id}')\n",
        "print(f'text = {cls.text}')"
      ]
    },
    {
      "cell_type": "markdown",
      "metadata": {
        "id": "l-5AkSAMSvo2"
      },
      "source": [
        "Creates an anonymous dataclass using fake data"
      ]
    },
    {
      "cell_type": "code",
      "execution_count": 14,
      "metadata": {
        "colab": {
          "base_uri": "https://localhost:8080/"
        },
        "id": "yDs1K1GISuu7",
        "outputId": "3b3daa97-bf71-46b1-9577-6d2fc1341432"
      },
      "outputs": [
        {
          "name": "stdout",
          "output_type": "stream",
          "text": [
            "id:               6756\n",
            "name:             Philip Mason\n",
            "job:              Engineer, manufacturing\n",
            "\n",
            "address:\n",
            "532 Carpenter Canyon Suite 204\n",
            "West Alyssa, HI 07247\n",
            "\n",
            "country:          Ecuador\n",
            "currency name:    South African rand\n",
            "currency code:    SVC\n",
            "\n",
            "email:            nwatson@example.net\n",
            "safe email:       bdavis@example.org\n",
            "work email:       pzimmerman@brandt-miller.com\n",
            "\n",
            "hostname:         srv-99.johnson.biz\n",
            "IPv4:             121.165.60.89\n",
            "IPv6:             65bb:884d:6ed2:5a73:e61e:59f8:7960:c798\n",
            "\n",
            "text:\n",
            "Reduce loss unit skill reflect night issue great. Late change individual far you toward. Evening threat education today attack teacher.\n"
          ]
        }
      ],
      "source": [
        "@dataclass\n",
        "class DataClass:\n",
        "    id: int\n",
        "\n",
        "    name: str\n",
        "    address: str\n",
        "    job: str\n",
        "\n",
        "    country: str\n",
        "    currency_name: str\n",
        "    currency_code: str\n",
        "\n",
        "    email: str\n",
        "    safe_email: str\n",
        "    company_email: str\n",
        "\n",
        "    hostname: str\n",
        "    ipv4: str\n",
        "    ipv6: str\n",
        "\n",
        "    text: str\n",
        "\n",
        "\n",
        "data = Autodata.create(DataClass, use_fake_data=True)\n",
        "\n",
        "print(f'id:               {data.id}')\n",
        "print(f'name:             {data.name}')\n",
        "print(f'job:              {data.job}\\n')\n",
        "print(f'address:\\n{data.address}\\n')\n",
        "\n",
        "print(f'country:          {data.country}')\n",
        "print(f'currency name:    {data.currency_name}')\n",
        "print(f'currency code:    {data.currency_code}\\n')\n",
        "\n",
        "print(f'email:            {data.email}')\n",
        "print(f'safe email:       {data.safe_email}')\n",
        "print(f'work email:       {data.company_email}\\n')\n",
        "\n",
        "print(f'hostname:         {data.hostname}')\n",
        "print(f'IPv4:             {data.ipv4}')\n",
        "print(f'IPv6:             {data.ipv6}\\n')\n",
        "\n",
        "print(f'text:\\n{data.text}')"
      ]
    },
    {
      "cell_type": "markdown",
      "metadata": {
        "id": "w9Y0ew5bK38i"
      },
      "source": [
        "Create a collection of an anonymous class"
      ]
    },
    {
      "cell_type": "code",
      "execution_count": 15,
      "metadata": {
        "colab": {
          "base_uri": "https://localhost:8080/"
        },
        "id": "RIECrPirK7qY",
        "outputId": "4d450f89-04e9-45ae-de31-8185167851ec"
      },
      "outputs": [
        {
          "name": "stdout",
          "output_type": "stream",
          "text": [
            "id = 1779\n",
            "text = be6bbcfa-44a5-4617-99d0-dcc6c0feb459\n",
            "\n",
            "id = 5951\n",
            "text = 7b3df11c-d2f4-4c59-9ee7-c41b5b7f861a\n",
            "\n",
            "id = 5771\n",
            "text = c77a3a07-7483-40a3-9088-b4d9e4ee5713\n",
            "\n"
          ]
        }
      ],
      "source": [
        "class SimpleClass:\n",
        "    id = -1\n",
        "    text = 'test'\n",
        "\n",
        "classes = Autodata.create_many(SimpleClass)\n",
        "for cls in classes:\n",
        "  print(f'id = {cls.id}')\n",
        "  print(f'text = {cls.text}')\n",
        "  print()"
      ]
    },
    {
      "cell_type": "markdown",
      "metadata": {
        "id": "wsAiwcRlHMIO"
      },
      "source": [
        "Create an anonymous class with nested types"
      ]
    },
    {
      "cell_type": "code",
      "execution_count": 16,
      "metadata": {
        "colab": {
          "base_uri": "https://localhost:8080/"
        },
        "id": "kZC_mo7-FRRm",
        "outputId": "affee7e8-b785-4fd6-b1b4-5876053d5b68"
      },
      "outputs": [
        {
          "name": "stdout",
          "output_type": "stream",
          "text": [
            "id = 9848\n",
            "text = 49c28b1e-75b0-42a4-b53b-d607f701cad2\n",
            "inner.id = 2753\n",
            "inner.text = 6f243959-1141-4818-bc81-9fa2e3fee145\n"
          ]
        }
      ],
      "source": [
        "class NestedClass:\n",
        "    id = -1\n",
        "    text = 'test'\n",
        "    inner = SimpleClass()\n",
        "\n",
        "cls = Autodata.create(NestedClass)\n",
        "print(f'id = {cls.id}')\n",
        "print(f'text = {cls.text}')\n",
        "print(f'inner.id = {cls.inner.id}')\n",
        "print(f'inner.text = {cls.inner.text}')"
      ]
    },
    {
      "cell_type": "markdown",
      "metadata": {
        "id": "l3AHwdpKLwnA"
      },
      "source": [
        "Create a collection of an anonymous class with nested types"
      ]
    },
    {
      "cell_type": "code",
      "execution_count": 17,
      "metadata": {
        "colab": {
          "base_uri": "https://localhost:8080/"
        },
        "id": "wjm4NvEPLst9",
        "outputId": "5695ca97-a74e-4d9f-c69a-bd7cf83dab66"
      },
      "outputs": [
        {
          "name": "stdout",
          "output_type": "stream",
          "text": [
            "id = 5118\n",
            "text = a345d274-af77-46b1-b1d7-23b885f66bc1\n",
            "inner.id = 5962\n",
            "inner.text = 56d3c5fc-0750-48e0-a0bf-c7cfc087344f\n",
            "id = 6361\n",
            "text = 790fb03b-5ed8-4a18-9e60-2be928f380a9\n",
            "inner.id = 7325\n",
            "inner.text = 5daaa0fe-e60e-4140-b45e-0a05cba5938c\n",
            "id = 7211\n",
            "text = 12e0db73-34d6-460b-9f6f-9a8554a17e7a\n",
            "inner.id = 9355\n",
            "inner.text = 61f4ce35-fb17-4e80-8650-b387c7b571c7\n"
          ]
        }
      ],
      "source": [
        "class NestedClass:\n",
        "    id = -1\n",
        "    text = 'test'\n",
        "    inner = SimpleClass()\n",
        "\n",
        "classes = Autodata.create_many(NestedClass)\n",
        "for cls in classes:\n",
        "  print(f'id = {cls.id}')\n",
        "  print(f'text = {cls.text}')\n",
        "  print(f'inner.id = {cls.inner.id}')\n",
        "  print(f'inner.text = {cls.inner.text}')"
      ]
    },
    {
      "cell_type": "markdown",
      "metadata": {
        "id": "CJOyVC90HRXN"
      },
      "source": [
        "Create a Pandas DataFrame using anonymous data generated from a specified type"
      ]
    },
    {
      "cell_type": "code",
      "execution_count": 18,
      "metadata": {
        "colab": {
          "base_uri": "https://localhost:8080/"
        },
        "id": "ZwHYNTlhFas6",
        "outputId": "e9b7f27e-dfb0-43b3-a681-3f5950f2393f"
      },
      "outputs": [
        {
          "name": "stdout",
          "output_type": "stream",
          "text": [
            "     id                                  type  value\n",
            "0  3166  1225344f-63ae-4f8d-992e-34ae111e6c14   8749\n",
            "1  5700  76f23eac-39ea-45fb-840c-8268bd1f615b   3325\n",
            "2  6647  5581ea44-fd84-4799-a1cf-89743603784b   2130\n"
          ]
        }
      ],
      "source": [
        "class DataClass:\n",
        "    id = -1\n",
        "    type = '' \n",
        "    value = 0\n",
        "\n",
        "pdf = Autodata.create_pandas_dataframe(DataClass)\n",
        "print(pdf)"
      ]
    },
    {
      "cell_type": "markdown",
      "metadata": {
        "id": "hmr4p8W2PrJ2"
      },
      "source": [
        "Create a Pandas DataFrame using fake data generated from a specified type"
      ]
    },
    {
      "cell_type": "code",
      "execution_count": 54,
      "metadata": {
        "colab": {
          "base_uri": "https://localhost:8080/"
        },
        "id": "Ul35xUycPsQ0",
        "outputId": "11901f6c-c445-4667-f20d-67ab3ebe622c"
      },
      "outputs": [
        {
          "name": "stdout",
          "output_type": "stream",
          "text": [
            "  first_name    id  last_name         phone_number\n",
            "0    Michael  5060   Williams         518-903-3552\n",
            "1     Daniel  9280   Thompson   861-831-7399x30399\n",
            "2     Austin  1020  Gillespie  +1-526-451-3570x529\n"
          ]
        }
      ],
      "source": [
        "@dataclass\n",
        "class DataClass:\n",
        "    id: int\n",
        "    first_name: str\n",
        "    last_name: str\n",
        "    phone_number: str\n",
        "\n",
        "pdf = Autodata.create_pandas_dataframe(DataClass, use_fake_data=True)\n",
        "print(pdf)"
      ]
    }
  ],
  "metadata": {
    "colab": {
      "authorship_tag": "ABX9TyMg6UCtF4FhhmTPsFiOdbqN",
      "include_colab_link": true,
      "name": "cheatsheet.ipynb",
      "provenance": []
    },
    "kernelspec": {
      "display_name": "Python 3",
      "name": "python3"
    },
    "language_info": {
      "codemirror_mode": {
        "name": "ipython",
        "version": 3
      },
      "file_extension": ".py",
      "mimetype": "text/x-python",
      "name": "python",
      "nbconvert_exporter": "python",
      "pygments_lexer": "ipython3",
      "version": "3.8.10"
    }
  },
  "nbformat": 4,
  "nbformat_minor": 0
}
