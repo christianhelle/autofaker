{
  "nbformat": 4,
  "nbformat_minor": 0,
  "metadata": {
    "colab": {
      "name": "pyautodata-cheatsheet.ipynb",
      "provenance": [],
      "authorship_tag": "ABX9TyPFwVSgeGqE/e0BtNE9xxd7",
      "include_colab_link": true
    },
    "kernelspec": {
      "name": "python3",
      "display_name": "Python 3"
    },
    "language_info": {
      "name": "python"
    }
  },
  "cells": [
    {
      "cell_type": "markdown",
      "metadata": {
        "id": "view-in-github",
        "colab_type": "text"
      },
      "source": [
        "<a href=\"https://colab.research.google.com/github/christianhelle/pyautodata/blob/main/docs/pyautodata_cheatsheet.ipynb\" target=\"_parent\"><img src=\"https://colab.research.google.com/assets/colab-badge.svg\" alt=\"Open In Colab\"/></a>"
      ]
    },
    {
      "cell_type": "markdown",
      "metadata": {
        "id": "0y_MgveJHZG9"
      },
      "source": [
        "Install pyautodata from PyPI"
      ]
    },
    {
      "cell_type": "code",
      "metadata": {
        "id": "wjLc6v4cDfUm"
      },
      "source": [
        "pip install -i https://test.pypi.org/simple/ pyautodata"
      ],
      "execution_count": null,
      "outputs": []
    },
    {
      "cell_type": "markdown",
      "metadata": {
        "id": "g1T15tRpHc2M"
      },
      "source": [
        "Import modules"
      ]
    },
    {
      "cell_type": "code",
      "metadata": {
        "id": "q72dHzF7AbZH"
      },
      "source": [
        "from pyautodata import Autodata"
      ],
      "execution_count": null,
      "outputs": []
    },
    {
      "cell_type": "markdown",
      "metadata": {
        "id": "WqqaFkjlD9RM"
      },
      "source": [
        "Creates an anonymous variable of the built-in types and dates"
      ]
    },
    {
      "cell_type": "code",
      "metadata": {
        "colab": {
          "base_uri": "https://localhost:8080/"
        },
        "id": "UIrw4-XADVvQ",
        "outputId": "1e4a5f94-ec3b-4f5a-8663-283bf13a37b6"
      },
      "source": [
        "print(f'anonymous string:    {Autodata.create(str)}')\n",
        "print(f'anonymous int:       {Autodata.create(int)}')\n",
        "print(f'anonymous float:     {Autodata.create(float)}')\n",
        "\n",
        "import datetime\n",
        "print(f'anonymous datetime:  {Autodata.create(datetime)}')\n",
        "print(f'anonymous date:      {Autodata.create(datetime.date)}')"
      ],
      "execution_count": null,
      "outputs": [
        {
          "output_type": "stream",
          "name": "stdout",
          "text": [
            "anonymous string: 2b1bd371-b098-4076-b18d-e07fa8d007a2\n",
            "anonymous int:    2119178501\n",
            "anonymous float:  229951202.85866272\n",
            "anonymous datetime: 2017-07-08 08:38:36.000767\n",
            "anonymous date:     2017-04-04 00:00:00\n"
          ]
        }
      ]
    },
    {
      "cell_type": "markdown",
      "metadata": {
        "id": "nAfIhGksKhfD"
      },
      "source": [
        "Create collections containing anonymous variables of built-in types and dates"
      ]
    },
    {
      "cell_type": "code",
      "metadata": {
        "colab": {
          "base_uri": "https://localhost:8080/"
        },
        "id": "Jp_Tvn71KgI0",
        "outputId": "bc2461c1-75e0-416a-83c0-22cbee11d962"
      },
      "source": [
        "print(f'anonymous strings:    {Autodata.create_many(str)}')\n",
        "print(f'anonymous ints:       {Autodata.create_many(int, 10)}')\n",
        "print(f'anonymous floats:     {Autodata.create_many(float, 5)}')\n",
        "\n",
        "import datetime\n",
        "print(f'anonymous datetime:  {Autodata.create_many(datetime)}')\n",
        "print(f'anonymous date:      {Autodata.create_many(datetime.date)}')"
      ],
      "execution_count": null,
      "outputs": [
        {
          "output_type": "stream",
          "name": "stdout",
          "text": [
            "anonymous string:    ['29804bd6-ed6d-4099-8639-d43e050ac2b5', 'f5e79856-0595-4751-b63e-20fddefb3cdc', '88ccf98a-92f9-4f84-b9a7-8bc115a9a610']\n",
            "anonymous int:       [907108205, 1304782987, 836335642, 341492454, 1313021477, 1055762617, 1107652306, 1133657194, 1365555384, 1786109194]\n",
            "anonymous float:     [1749650445.4516416, 295799465.64064974, 462873734.2985262, 1394756826.493378, 1223966902.0798628]\n",
            "anonymous datetime:  [datetime.datetime(2025, 4, 22, 22, 51, 52, 367), datetime.datetime(2013, 12, 13, 0, 20, 12, 343), datetime.datetime(2027, 1, 27, 5, 58, 39, 625)]\n",
            "anonymous date:      [datetime.datetime(2012, 6, 7, 0, 0), datetime.datetime(2027, 8, 10, 0, 0), datetime.datetime(2030, 2, 25, 0, 0)]\n"
          ]
        }
      ]
    },
    {
      "cell_type": "markdown",
      "metadata": {
        "id": "WouPj313E84s"
      },
      "source": [
        "Creates an anonymous class"
      ]
    },
    {
      "cell_type": "code",
      "metadata": {
        "colab": {
          "base_uri": "https://localhost:8080/"
        },
        "id": "_zSjLhnNE7Jv",
        "outputId": "caeae85a-94f7-4d33-f246-a19137b96d96"
      },
      "source": [
        "class SimpleClass:\n",
        "    id = 123\n",
        "    text = 'test'\n",
        "\n",
        "cls = Autodata.create(SimpleClass)\n",
        "print(f'id = {cls.id}')\n",
        "print(f'text = {cls.text}')"
      ],
      "execution_count": null,
      "outputs": [
        {
          "output_type": "stream",
          "name": "stdout",
          "text": [
            "id = 943823957\n",
            "text = bdf4b9d2-7a28-46ec-bf13-feae1112b6ce\n"
          ]
        }
      ]
    },
    {
      "cell_type": "markdown",
      "metadata": {
        "id": "w9Y0ew5bK38i"
      },
      "source": [
        "Create a collection of an anonymous class"
      ]
    },
    {
      "cell_type": "code",
      "metadata": {
        "colab": {
          "base_uri": "https://localhost:8080/"
        },
        "id": "RIECrPirK7qY",
        "outputId": "32e9ccee-0858-4f1d-e6dd-6323581878c2"
      },
      "source": [
        "class SimpleClass:\n",
        "    id = 123\n",
        "    text = 'test'\n",
        "\n",
        "classes = Autodata.create_many(SimpleClass)\n",
        "for cls in classes:\n",
        "  print(f'id = {cls.id}')\n",
        "  print(f'text = {cls.text}')\n",
        "  print()"
      ],
      "execution_count": null,
      "outputs": [
        {
          "output_type": "stream",
          "name": "stdout",
          "text": [
            "id = 486830186\n",
            "text = a31cddd8-abdd-4ba0-a669-7caf0dec78bf\n",
            "\n",
            "id = 1185352059\n",
            "text = 9c36aaf1-45ec-446e-9f85-944a5cd5dd67\n",
            "\n",
            "id = 1733104242\n",
            "text = 8c6b685f-ca21-4445-966d-81b60e38637f\n",
            "\n"
          ]
        }
      ]
    },
    {
      "cell_type": "markdown",
      "metadata": {
        "id": "wsAiwcRlHMIO"
      },
      "source": [
        "Create an anonymous class with nested types"
      ]
    },
    {
      "cell_type": "code",
      "metadata": {
        "colab": {
          "base_uri": "https://localhost:8080/"
        },
        "id": "kZC_mo7-FRRm",
        "outputId": "8392177f-7038-4330-cab5-0ccb87cfbd5d"
      },
      "source": [
        "class NestedClass:\n",
        "    id = 123\n",
        "    text = 'test'\n",
        "    inner = SimpleClass()\n",
        "\n",
        "cls = Autodata.create(NestedClass)\n",
        "print(f'id = {cls.id}')\n",
        "print(f'text = {cls.text}')\n",
        "print(f'inner.id = {cls.inner.id}')\n",
        "print(f'inner.text = {cls.inner.text}')"
      ],
      "execution_count": null,
      "outputs": [
        {
          "output_type": "stream",
          "name": "stdout",
          "text": [
            "id = 1317419723\n",
            "text = 5879774e-63b4-4f2e-9a3d-375a5542d099\n",
            "inner.id = 1511771757\n",
            "inner.text = 5190f5c7-63b4-4086-aeac-401918e525dd\n"
          ]
        }
      ]
    },
    {
      "cell_type": "markdown",
      "metadata": {
        "id": "l3AHwdpKLwnA"
      },
      "source": [
        "Create a collection of an anonymous class with nested types"
      ]
    },
    {
      "cell_type": "code",
      "metadata": {
        "colab": {
          "base_uri": "https://localhost:8080/"
        },
        "id": "wjm4NvEPLst9",
        "outputId": "57bd9b56-7409-4294-d865-a615cc32edb0"
      },
      "source": [
        "class NestedClass:\n",
        "    id = 123\n",
        "    text = 'test'\n",
        "    inner = SimpleClass()\n",
        "\n",
        "classes = Autodata.create_many(NestedClass)\n",
        "for cls in classes:\n",
        "  print(f'id = {cls.id}')\n",
        "  print(f'text = {cls.text}')\n",
        "  print(f'inner.id = {cls.inner.id}')\n",
        "  print(f'inner.text = {cls.inner.text}')"
      ],
      "execution_count": null,
      "outputs": [
        {
          "output_type": "stream",
          "name": "stdout",
          "text": [
            "id = 927383564\n",
            "text = 02e672f9-93db-498a-b0df-f0446d3afc6f\n",
            "inner.id = 509523295\n",
            "inner.text = 202621bc-656b-4bbb-94f2-dce25c195c76\n",
            "id = 825390259\n",
            "text = d37f7ec0-abd0-4b5c-83e4-c438a563498d\n",
            "inner.id = 2122935480\n",
            "inner.text = d0b6f9eb-f455-4e51-b273-6074fff5ff55\n",
            "id = 1318867052\n",
            "text = 28dc6fac-ad1b-4c44-99ed-52141d95a47f\n",
            "inner.id = 286836507\n",
            "inner.text = c21c3d9d-0185-42d1-b2ca-47380a61d3f9\n"
          ]
        }
      ]
    },
    {
      "cell_type": "markdown",
      "metadata": {
        "id": "CJOyVC90HRXN"
      },
      "source": [
        "Create a Pandas DataFrame using anonymous data generated from a specified type"
      ]
    },
    {
      "cell_type": "code",
      "metadata": {
        "colab": {
          "base_uri": "https://localhost:8080/"
        },
        "id": "ZwHYNTlhFas6",
        "outputId": "4ec0330f-c77e-4e21-c0a8-87b65d1b41dc"
      },
      "source": [
        "class DataClass:\n",
        "    id = 0\n",
        "    type = '' \n",
        "    value = 0\n",
        "\n",
        "pdf = Autodata.create_pandas_dataframe(DataClass)\n",
        "print(pdf)"
      ],
      "execution_count": null,
      "outputs": [
        {
          "output_type": "stream",
          "name": "stdout",
          "text": [
            "           id                                  type       value\n",
            "0   285993941  b6736477-ba2d-4c99-aec5-ac46e54106b4   589083529\n",
            "1   292299282  97eba99c-5d1c-40cc-a386-5eb9a20adf57   290803183\n",
            "2  1290573190  e80802a2-7400-4524-bd0f-1429d3f02b6f  1819918620\n"
          ]
        }
      ]
    },
    {
      "cell_type": "markdown",
      "metadata": {
        "id": "GCuI-GrqMw1a"
      },
      "source": [
        "Create a Spark DataFrame using anonymous data generated from a specified type"
      ]
    },
    {
      "cell_type": "code",
      "metadata": {
        "id": "VsVho_sxHsgP"
      },
      "source": [
        "class DataClass:\n",
        "    id = 0\n",
        "    type = '' \n",
        "    value = 0\n",
        "\n",
        "df = Autodata.create_spark_dataframe(DataClass)\n",
        "df.show()"
      ],
      "execution_count": null,
      "outputs": []
    }
  ]
}